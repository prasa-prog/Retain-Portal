{
 "cells": [
  {
   "cell_type": "code",
   "execution_count": 2,
   "id": "f19bee8c",
   "metadata": {},
   "outputs": [
    {
     "name": "stdout",
     "output_type": "stream",
     "text": [
      "Running on http://127.0.0.1:8051/\n"
     ]
    },
    {
     "data": {
      "text/html": [
       "\n",
       "        <iframe\n",
       "            width=\"100%\"\n",
       "            height=\"650\"\n",
       "            src=\"http://127.0.0.1:8051/\"\n",
       "            frameborder=\"0\"\n",
       "            allowfullscreen\n",
       "            \n",
       "        ></iframe>\n",
       "        "
      ],
      "text/plain": [
       "<IPython.lib.display.IFrame at 0x21cda714450>"
      ]
     },
     "metadata": {},
     "output_type": "display_data"
    }
   ],
   "source": [
    "import pandas as pd\n",
    "import numpy as np\n",
    "import plotly.graph_objects as go\n",
    "import plotly.express as px\n",
    "\n",
    "import dash\n",
    "from dash import dcc\n",
    "from dash import html\n",
    "\n",
    "import socket\n",
    "import webbrowser\n",
    "\n",
    "df = pd.read_csv(\"sample.csv\")\n",
    "df.columns =[\"EPF\",\"Name\",\"SatisfactionLevel\",\"ReasonCategory\",\"LTO\"]\n",
    "df.drop([0] , inplace =True)\n",
    "# Creating dummy variables\n",
    "df_dummies = pd.get_dummies(df, columns=[\"ReasonCategory\"])\n",
    "\n",
    "# Sample data\n",
    "df = df\n",
    "# Scatter plot\n",
    "scatter_fig = px.scatter(df, x='EPF', y='LTO', color='SatisfactionLevel',\n",
    "                         title=\"Scatter plot of Satisfaction Level vs LTO Suceptibility\")\n",
    "\n",
    " #Histogram\n",
    "hist_fig = px.histogram(df, x='SatisfactionLevel', title=\"Histogram of Employee Satisfaction Level\")\n",
    "\n",
    "\n",
    "# Initialize Dash app\n",
    "app = dash.Dash(__name__)\n",
    "\n",
    "# Define the layout of the dashboard\n",
    "app.layout = html.Div(children=[\n",
    "    html.H1(children='LTO Susceptibility'),\n",
    "\n",
    "    html.Div(children='OVERVIEW OF LTO TREND'),\n",
    "\n",
    "    dcc.Graph(\n",
    "        id='scatter-plot',\n",
    "        figure=scatter_fig\n",
    "    ),\n",
    "\n",
    "    dcc.Graph(\n",
    "        id='histogram',\n",
    "        figure=hist_fig\n",
    "    )\n",
    "])\n",
    "\n",
    "# Run the app\n",
    "    \n",
    "def find_free_port(default=8050):\n",
    "    \"\"\"Find a free port starting from default.\"\"\"\n",
    "    port = default\n",
    "    while True:\n",
    "        with socket.socket(socket.AF_INET, socket.SOCK_STREAM) as s:\n",
    "            if s.connect_ex((\"127.0.0.1\", port)) != 0:\n",
    "                return port\n",
    "            port += 1\n",
    "\n",
    "if __name__ == \"__main__\":\n",
    "    port = find_free_port()\n",
    "    url = f\"http://127.0.0.1:{port}/\"\n",
    "    print(f\"Running on {url}\")\n",
    "\n",
    "    # Auto-open browser tab\n",
    "    webbrowser.open_new_tab(url)\n",
    "\n",
    "    # Run Dash app\n",
    "    app.run_server(debug=True, port=port)\n",
    "   "
   ]
  },
  {
   "cell_type": "code",
   "execution_count": null,
   "id": "73fd4136",
   "metadata": {},
   "outputs": [],
   "source": []
  }
 ],
 "metadata": {
  "kernelspec": {
   "display_name": "Python 3 (ipykernel)",
   "language": "python",
   "name": "python3"
  },
  "language_info": {
   "codemirror_mode": {
    "name": "ipython",
    "version": 3
   },
   "file_extension": ".py",
   "mimetype": "text/x-python",
   "name": "python",
   "nbconvert_exporter": "python",
   "pygments_lexer": "ipython3",
   "version": "3.11.5"
  }
 },
 "nbformat": 4,
 "nbformat_minor": 5
}
